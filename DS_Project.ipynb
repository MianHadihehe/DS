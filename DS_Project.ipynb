{
  "nbformat": 4,
  "nbformat_minor": 0,
  "metadata": {
    "colab": {
      "provenance": []
    },
    "kernelspec": {
      "name": "python3",
      "display_name": "Python 3"
    },
    "language_info": {
      "name": "python"
    }
  },
  "cells": [
    {
      "cell_type": "code",
      "execution_count": 7,
      "metadata": {
        "colab": {
          "base_uri": "https://localhost:8080/"
        },
        "id": "7ReqOunJwoJn",
        "outputId": "02d02655-b0fe-4327-b834-4f999e391e46"
      },
      "outputs": [
        {
          "output_type": "stream",
          "name": "stdout",
          "text": [
            "Accuracy: 0.9136546184738956\n",
            "\n",
            "Classification Report:\n",
            "               precision    recall  f1-score   support\n",
            "\n",
            "           0       0.93      0.90      0.91       498\n",
            "           1       0.90      0.93      0.92       498\n",
            "\n",
            "    accuracy                           0.91       996\n",
            "   macro avg       0.91      0.91      0.91       996\n",
            "weighted avg       0.91      0.91      0.91       996\n",
            "\n",
            "\n",
            "Confusion Matrix:\n",
            " [[446  52]\n",
            " [ 34 464]]\n",
            "\n",
            "Model saved as rf_model.pkl\n"
          ]
        }
      ],
      "source": [
        "import pandas as pd\n",
        "from sklearn.ensemble import RandomForestClassifier\n",
        "from sklearn.model_selection import train_test_split\n",
        "from sklearn.metrics import accuracy_score, classification_report, confusion_matrix\n",
        "import joblib\n",
        "\n",
        "df = pd.read_csv('final_stroke_dataset.csv')\n",
        "X = df.drop('stroke', axis=1)\n",
        "y = df['stroke']\n",
        "\n",
        "X_train, X_test, y_train, y_test = train_test_split(\n",
        "    X, y,\n",
        "    test_size=0.2,\n",
        "    random_state=42,\n",
        "    stratify=y\n",
        ")\n",
        "\n",
        "clf = RandomForestClassifier(random_state=42)\n",
        "clf.fit(X_train, y_train)\n",
        "\n",
        "y_pred = clf.predict(X_test)\n",
        "\n",
        "print(\"Accuracy:\", accuracy_score(y_test, y_pred))\n",
        "print(\"\\nClassification Report:\\n\", classification_report(y_test, y_pred))\n",
        "print(\"\\nConfusion Matrix:\\n\", confusion_matrix(y_test, y_pred))\n",
        "\n",
        "joblib.dump(clf, 'rf_model.pkl')\n",
        "print(\"\\nModel saved as rf_model.pkl\")\n"
      ]
    },
    {
      "cell_type": "code",
      "source": [
        "import pandas as pd\n",
        "from sklearn.preprocessing import LabelEncoder, StandardScaler, MinMaxScaler\n",
        "import joblib\n",
        "\n",
        "raw = pd.read_csv('healthcare-dataset-stroke-data.csv')\n",
        "\n",
        "cat_cols = ['gender','ever_married','work_type','Residence_type','smoking_status']\n",
        "num_cols = ['age','avg_glucose_level']\n",
        "\n",
        "label_encoders = {}\n",
        "for col in cat_cols:\n",
        "    le = LabelEncoder()\n",
        "    le.fit(raw[col])\n",
        "    label_encoders[col] = le\n",
        "\n",
        "X_cat = pd.DataFrame({col: label_encoders[col].transform(raw[col])\n",
        "                      for col in cat_cols})\n",
        "scaler_cat = StandardScaler().fit(X_cat)\n",
        "\n",
        "scaler_num = MinMaxScaler().fit(raw[num_cols])\n",
        "\n",
        "joblib.dump(label_encoders, 'label_encoders.pkl')\n",
        "joblib.dump(scaler_cat,       'scaler_cat.pkl')\n",
        "joblib.dump(scaler_num,       'scaler_num.pkl')\n",
        "\n",
        "print(\"Transformers saved.\")\n"
      ],
      "metadata": {
        "colab": {
          "base_uri": "https://localhost:8080/"
        },
        "id": "thw85S42U_RV",
        "outputId": "e38b407c-f7a5-4623-ff61-d929bf584359"
      },
      "execution_count": 6,
      "outputs": [
        {
          "output_type": "stream",
          "name": "stdout",
          "text": [
            "Transformers saved.\n"
          ]
        }
      ]
    }
  ]
}