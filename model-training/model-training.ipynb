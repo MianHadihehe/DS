{
  "cells": [
    {
      "cell_type": "code",
      "execution_count": 5,
      "metadata": {
        "colab": {
          "base_uri": "https://localhost:8080/"
        },
        "id": "7ReqOunJwoJn",
        "outputId": "02d02655-b0fe-4327-b834-4f999e391e46"
      },
      "outputs": [
        {
          "name": "stdout",
          "output_type": "stream",
          "text": [
            "Accuracy: 0.8905622489959839\n",
            "\n",
            "Classification Report:\n",
            "               precision    recall  f1-score   support\n",
            "\n",
            "           0       0.91      0.87      0.89       498\n",
            "           1       0.87      0.91      0.89       498\n",
            "\n",
            "    accuracy                           0.89       996\n",
            "   macro avg       0.89      0.89      0.89       996\n",
            "weighted avg       0.89      0.89      0.89       996\n",
            "\n",
            "\n",
            "Confusion Matrix:\n",
            " [[432  66]\n",
            " [ 43 455]]\n",
            "\n",
            "Model saved as rf_model.pkl\n"
          ]
        }
      ],
      "source": [
        "import pandas as pd\n",
        "from sklearn.ensemble import RandomForestClassifier\n",
        "from sklearn.model_selection import train_test_split\n",
        "from sklearn.metrics import accuracy_score, classification_report, confusion_matrix\n",
        "import joblib\n",
        "\n",
        "df = pd.read_csv('final_stroke_dataset.csv')\n",
        "X = df.drop('stroke', axis=1)\n",
        "y = df['stroke']\n",
        "\n",
        "X_train, X_test, y_train, y_test = train_test_split(\n",
        "    X, y,\n",
        "    test_size=0.2,\n",
        "    random_state=42,\n",
        "    stratify=y\n",
        ")\n",
        "\n",
        "clf = RandomForestClassifier(random_state=42)\n",
        "clf.fit(X_train, y_train)\n",
        "\n",
        "y_pred = clf.predict(X_test)\n",
        "\n",
        "print(\"Accuracy:\", accuracy_score(y_test, y_pred))\n",
        "print(\"\\nClassification Report:\\n\", classification_report(y_test, y_pred))\n",
        "print(\"\\nConfusion Matrix:\\n\", confusion_matrix(y_test, y_pred))\n",
        "\n",
        "joblib.dump(clf, 'rf_model.pkl')\n",
        "print(\"\\nModel saved as rf_model.pkl\")\n"
      ]
    },
    {
      "cell_type": "code",
      "execution_count": 6,
      "metadata": {
        "colab": {
          "base_uri": "https://localhost:8080/"
        },
        "id": "thw85S42U_RV",
        "outputId": "e38b407c-f7a5-4623-ff61-d929bf584359"
      },
      "outputs": [
        {
          "name": "stdout",
          "output_type": "stream",
          "text": [
            "✅ Saved: label_encoders.pkl, cat_scalers.pkl, scaler_age.pkl, scaler_glucose.pkl\n"
          ]
        }
      ],
      "source": [
        "import pandas as pd\n",
        "import joblib\n",
        "from sklearn.preprocessing import LabelEncoder, StandardScaler, MinMaxScaler\n",
        "\n",
        "# Load raw dataset\n",
        "raw = pd.read_csv('healthcare-dataset-stroke-data.csv')\n",
        "\n",
        "# Define columns\n",
        "cat_cols = ['gender', 'ever_married', 'work_type', 'Residence_type', 'smoking_status']\n",
        "num_cols = ['age', 'avg_glucose_level']\n",
        "\n",
        "# === STEP 1: Use one LabelEncoder per categorical column ===\n",
        "label_encoders = {}\n",
        "for col in cat_cols:\n",
        "    le = LabelEncoder()\n",
        "    raw[col] = le.fit_transform(raw[col])\n",
        "    label_encoders[col] = le\n",
        "\n",
        "# === STEP 2: StandardScaler per categorical column ===\n",
        "cat_scalers = {}\n",
        "for col in cat_cols:\n",
        "    scaler = StandardScaler()\n",
        "    raw[col] = scaler.fit_transform(raw[[col]])\n",
        "    cat_scalers[col] = scaler\n",
        "\n",
        "# === STEP 3: MinMaxScaler for numeric columns ===\n",
        "scaler_age = MinMaxScaler()\n",
        "scaler_glucose = MinMaxScaler()\n",
        "\n",
        "raw['age'] = scaler_age.fit_transform(raw[['age']])\n",
        "raw['avg_glucose_level'] = scaler_glucose.fit_transform(raw[['avg_glucose_level']])\n",
        "\n",
        "# === STEP 4: Save all transformers ===\n",
        "joblib.dump(label_encoders, 'label_encoders.pkl')        # dict of LabelEncoder per col\n",
        "joblib.dump(cat_scalers, 'cat_scalers.pkl')              # dict of StandardScaler per col\n",
        "joblib.dump(scaler_age, 'scaler_age.pkl')                # MinMaxScaler for age\n",
        "joblib.dump(scaler_glucose, 'scaler_glucose.pkl')        # MinMaxScaler for glucose\n",
        "\n",
        "print(\"✅ Saved: label_encoders.pkl, cat_scalers.pkl, scaler_age.pkl, scaler_glucose.pkl\")\n"
      ]
    },
    {
      "cell_type": "code",
      "execution_count": null,
      "metadata": {},
      "outputs": [],
      "source": []
    }
  ],
  "metadata": {
    "colab": {
      "provenance": []
    },
    "kernelspec": {
      "display_name": "Python 3",
      "name": "python3"
    },
    "language_info": {
      "codemirror_mode": {
        "name": "ipython",
        "version": 3
      },
      "file_extension": ".py",
      "mimetype": "text/x-python",
      "name": "python",
      "nbconvert_exporter": "python",
      "pygments_lexer": "ipython3",
      "version": "3.13.3"
    }
  },
  "nbformat": 4,
  "nbformat_minor": 0
}
